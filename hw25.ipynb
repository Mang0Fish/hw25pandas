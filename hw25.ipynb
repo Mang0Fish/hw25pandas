{
 "cells": [
  {
   "cell_type": "code",
   "execution_count": 39,
   "id": "5179c9fd-085a-48d8-bfb4-5e46cb521006",
   "metadata": {},
   "outputs": [
    {
     "name": "stdout",
     "output_type": "stream",
     "text": [
      "0                          Planet Coaster 2\n",
      "1                Mario & Luigi: Brothership\n",
      "2                               Slitterhead\n",
      "3               The Rise of the Golden Idol\n",
      "4               Dragon Quest 3 HD-2D Remake\n",
      "5           Microsoft Flight Simulator 2024\n",
      "6             Stalker 2: Heart of Chornobyl\n",
      "7                   Fantasian Neo Dimension\n",
      "8                             Marvel Rivals\n",
      "9        Indiana Jones and the Great Circle\n",
      "10            Blood Line: A Rebel Moon Game\n",
      "11    The Legend of Zelda: Echoes of Wisdom\n",
      "dtype: object \n",
      "\n",
      "The Rise of the Golden Idol \n",
      "\n",
      "Planet Coaster 2                         224.96\n",
      "Mario & Luigi: Brothership               187.46\n",
      "Slitterhead                              149.96\n",
      "The Rise of the Golden Idol              131.21\n",
      "Dragon Quest 3 HD-2D Remake              187.46\n",
      "Microsoft Flight Simulator 2024          262.46\n",
      "Stalker 2: Heart of Chornobyl            224.96\n",
      "Fantasian Neo Dimension                  168.71\n",
      "Marvel Rivals                            149.96\n",
      "Indiana Jones and the Great Circle       206.21\n",
      "Blood Line: A Rebel Moon Game              0.00\n",
      "The Legend of Zelda: Echoes of Wisdom    262.46\n",
      "dtype: float64 \n",
      "\n",
      "149.96 \n",
      "\n",
      "Index(['Planet Coaster 2', 'Mario & Luigi: Brothership', 'Slitterhead',\n",
      "       'The Rise of the Golden Idol', 'Dragon Quest 3 HD-2D Remake',\n",
      "       'Microsoft Flight Simulator 2024', 'Stalker 2: Heart of Chornobyl',\n",
      "       'Fantasian Neo Dimension', 'Marvel Rivals',\n",
      "       'Indiana Jones and the Great Circle', 'Blood Line: A Rebel Moon Game',\n",
      "       'The Legend of Zelda: Echoes of Wisdom'],\n",
      "      dtype='object') \n",
      "\n",
      "float64 \n",
      "\n"
     ]
    }
   ],
   "source": [
    "#hw25\n",
    "import pandas as pd\n",
    "#1\n",
    "games = pd.Series([ \"Planet Coaster 2\", \"Mario & Luigi: Brothership\", \"Slitterhead\", \"The Rise of the Golden Idol\"\n",
    ", \"Dragon Quest 3 HD-2D Remake\", \"Microsoft Flight Simulator 2024\"\n",
    ", \"Stalker 2: Heart of Chornobyl\", \"Fantasian Neo Dimension\", \"Marvel Rivals\"\n",
    ", \"Indiana Jones and the Great Circle\", \"Blood Line: A Rebel Moon Game\",\n",
    "\"The Legend of Zelda: Echoes of Wisdom\" ])\n",
    "print(games,'\\n')\n",
    "print(games[3],'\\n')\n",
    "games_prices = pd.Series([224.96, 187.46, 149.96, 131.21, 187.46, 262.46, 224.96,\n",
    "168.71, 149.96, 206.21, 0.0, 262.46], games)\n",
    "print(games_prices,'\\n')\n",
    "print(games_prices['Marvel Rivals'],'\\n')\n",
    "print(games_prices.keys(),'\\n')\n",
    "print(games_prices.dtype,'\\n')\n",
    "three_games_prices = {'Planet Coaster 2':224.96,'Microsoft Flight Simulator 2024':262.46,'Mario & Luigi: Brothership':187.46}\n",
    "three_games_prices = pd.Series(three_games_prices)\n",
    "three_games_prices = three_games_prices.reset_index()\n"
   ]
  },
  {
   "cell_type": "code",
   "execution_count": null,
   "id": "cf5f8844-6dfd-4761-b128-00bb4096a435",
   "metadata": {},
   "outputs": [],
   "source": [
    "#2\n",
    "#The difference between add and + is that add has a custom fill_value argument while + doesn't\n"
   ]
  },
  {
   "cell_type": "code",
   "execution_count": 47,
   "id": "1621d116-ee1f-4118-9adf-1fc38e4ea56b",
   "metadata": {},
   "outputs": [
    {
     "name": "stdout",
     "output_type": "stream",
     "text": [
      "Mario & Luigi: Brothership               187.46\n",
      "Marvel Rivals                             69.96\n",
      "Planet Coaster 2                         174.96\n",
      "Slitterhead                              149.96\n",
      "The Legend of Zelda: Echoes of Wisdom    247.46\n",
      "dtype: float64\n"
     ]
    }
   ],
   "source": [
    "#3\n",
    "some_games = pd.Series({ \"Planet Coaster 2\": 224.96, \"Mario & Luigi: Brothership\": 187.46,\n",
    "\"Slitterhead\": 149.96, \"Marvel Rivals\": 149.96,\n",
    "\"The Legend of Zelda: Echoes of Wisdom\": 262.46 })\n",
    "discounts = pd.Series({\"Planet Coaster 2\": -50.0, \"Marvel Rivals\":-80.0,\"The Legend of Zelda: Echoes of Wisdom\": -15.0})\n",
    "print(some_games.add(discounts, fill_value = 0.0)) "
   ]
  }
 ],
 "metadata": {
  "kernelspec": {
   "display_name": "Python 3 (ipykernel)",
   "language": "python",
   "name": "python3"
  },
  "language_info": {
   "codemirror_mode": {
    "name": "ipython",
    "version": 3
   },
   "file_extension": ".py",
   "mimetype": "text/x-python",
   "name": "python",
   "nbconvert_exporter": "python",
   "pygments_lexer": "ipython3",
   "version": "3.12.7"
  }
 },
 "nbformat": 4,
 "nbformat_minor": 5
}
